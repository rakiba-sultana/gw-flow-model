{
 "cells": [
  {
   "cell_type": "markdown",
   "id": "08069f97-d1ad-4989-830d-4f0f4cf28560",
   "metadata": {},
   "source": [
    "This notebook is simulation of pumping test conducted in ssma 2020. The simulation is in confined, one layer regional model. "
   ]
  },
  {
   "cell_type": "markdown",
   "id": "ac3f6bc0-6a1e-4ae4-870e-67cab057d074",
   "metadata": {},
   "source": [
    "Import libraries"
   ]
  },
  {
   "cell_type": "code",
   "execution_count": 1,
   "id": "81135ca7-9b41-4d20-af30-5fcc39d7c00b",
   "metadata": {},
   "outputs": [],
   "source": [
    "import flopy\n",
    "import pathlib as pl\n",
    "import glob\n",
    "from flopy.utils import GridIntersect, Raster\n",
    "from shapely.geometry import Polygon, Point\n",
    "\n",
    "import numpy as np\n",
    "import matplotlib.pyplot as plt\n",
    "import pandas as pd\n",
    "import geopandas as gpd\n",
    "import rasterio as rio\n",
    "import scipy.interpolate\n",
    "import os\n",
    "import flopy.utils.binaryfile as bf"
   ]
  },
  {
   "cell_type": "markdown",
   "id": "999d6ff9-8f01-4124-af71-cca1b28d6502",
   "metadata": {},
   "source": [
    "Check version"
   ]
  },
  {
   "cell_type": "code",
   "execution_count": 2,
   "id": "6215fef1-31cb-420d-af2e-1d1c303bff1c",
   "metadata": {},
   "outputs": [
    {
     "data": {
      "text/plain": [
       "'3.8.0'"
      ]
     },
     "execution_count": 2,
     "metadata": {},
     "output_type": "execute_result"
    }
   ],
   "source": [
    "flopy.__version__"
   ]
  },
  {
   "cell_type": "markdown",
   "id": "eb40283f-09cd-481e-9ce8-dac3b4bbc299",
   "metadata": {},
   "source": [
    "Load packages"
   ]
  },
  {
   "cell_type": "code",
   "execution_count": 3,
   "id": "7722a75f-8b81-4f6f-8412-a186f518ff88",
   "metadata": {},
   "outputs": [
    {
     "name": "stdout",
     "output_type": "stream",
     "text": [
      "loading simulation...\n",
      "  loading simulation name file...\n",
      "  loading tdis package...\n",
      "  loading model gwf6...\n",
      "    loading package disu...\n",
      "    loading package ic...\n",
      "    loading package npf...\n",
      "    loading package chd...\n",
      "    loading package riv...\n",
      "    loading package ghb...\n",
      "  loading solution package mf6model...\n",
      "Checking model \"mf6model\"...\n",
      "\n",
      "mf6model MODEL DATA VALIDATION SUMMARY:\n",
      "  No errors or warnings encountered.\n",
      "\n",
      "  Checks that passed:\n",
      "    npf package: zero or negative horizontal hydraulic conductivity values\n",
      "    npf package: horizontal hydraulic conductivity values below checker threshold of 1e-11\n",
      "    npf package: horizontal hydraulic conductivity values above checker threshold of 100000.0\n",
      "    chd-1 package: BC indices valid\n",
      "    chd-1 package: not a number (Nan) entries\n",
      "    chd-1 package: BC in inactive cells\n",
      "    riv-1 package: BC indices valid\n",
      "    riv-1 package: not a number (Nan) entries\n",
      "    riv-1 package: BC in inactive cells\n",
      "    ghb-1 package: BC indices valid\n",
      "    ghb-1 package: not a number (Nan) entries\n",
      "    ghb-1 package: BC in inactive cells\n",
      "\n",
      "Checking for missing simulation packages...\n"
     ]
    }
   ],
   "source": [
    "sim = flopy.mf6.MFSimulation.load(\n",
    "    sim_name='mf6',\n",
    "    exe_name = 'mf6.exe',\n",
    "    sim_ws = '.',\n",
    "    strict=True,\n",
    "    verbosity_level=1,\n",
    "    load_only=None,\n",
    "    verify_data=True,\n",
    "    write_headers=True,\n",
    "    lazy_io=False,\n",
    "    use_pandas=True,\n",
    ")"
   ]
  },
  {
   "cell_type": "markdown",
   "id": "e433b656-ef9b-4f00-8e09-fa49d4b247a6",
   "metadata": {},
   "source": [
    "Obtain model object from a simulation object"
   ]
  },
  {
   "cell_type": "code",
   "execution_count": 4,
   "id": "83ae82ca-09da-40ad-bc55-254637fcc8d2",
   "metadata": {},
   "outputs": [],
   "source": [
    "m=sim.get_model()"
   ]
  },
  {
   "cell_type": "markdown",
   "id": "ecd56233-450d-4e7b-88fc-056f1b6d516e",
   "metadata": {},
   "source": [
    "Set projection system"
   ]
  },
  {
   "cell_type": "code",
   "execution_count": 5,
   "id": "7c7a3f96-45e0-4eb5-9330-4a550671eb25",
   "metadata": {},
   "outputs": [],
   "source": [
    "prj1=('PROJCS[\"NAD_1927_StatePlane_Wyoming_West_Central_FIPS_4903\",'\n",
    "    'GEOGCS[\"GCS_North_American_1927\",DATUM[\"D_North_American_1927\",'\n",
    "    'SPHEROID[\"Clarke_1866\",6378206.4,294.9786982]],'\n",
    "    'PRIMEM[\"Greenwich\",0.0],'\n",
    "    'UNIT[\"Degree\",0.0174532925199433]],'\n",
    "    'PROJECTION[\"Transverse_Mercator\"],'\n",
    "    'PARAMETER[\"False_Easting\",500000.0],'\n",
    "    'PARAMETER[\"False_Northing\",0.0],'\n",
    "    'PARAMETER[\"Central_Meridian\",-108.75],'\n",
    "    'PARAMETER[\"Scale_Factor\",0.9999411764705882],'\n",
    "    'PARAMETER[\"Latitude_Of_Origin\",40.66666666666666],'\n",
    "    'UNIT[\"Foot_US\",0.3048006096012192]]'\n",
    "                            )"
   ]
  },
  {
   "cell_type": "markdown",
   "id": "27dce135-6f6f-4854-a474-8f76d45ac972",
   "metadata": {},
   "source": [
    "Obtain modelgrid from model object"
   ]
  },
  {
   "cell_type": "code",
   "execution_count": 6,
   "id": "59f43c0b-b2ed-40ec-af06-97442d03c305",
   "metadata": {},
   "outputs": [],
   "source": [
    "mg=m.modelgrid"
   ]
  },
  {
   "cell_type": "markdown",
   "id": "121a8902-00d1-4733-865f-4cd50c5df6ab",
   "metadata": {},
   "source": [
    "Set coordinates"
   ]
  },
  {
   "cell_type": "code",
   "execution_count": 7,
   "id": "2eeb3065-c486-434a-9a27-3b58569c401c",
   "metadata": {},
   "outputs": [],
   "source": [
    "mg.set_coord_info(\n",
    "    xoff=0.,\n",
    "    yoff=0.,\n",
    "    angrot=0.,\n",
    "    crs=prj1,\n",
    ")"
   ]
  },
  {
   "cell_type": "markdown",
   "id": "84a87ff0-6d0e-458b-a5b9-5fcb776c4073",
   "metadata": {},
   "source": [
    "Plot"
   ]
  },
  {
   "cell_type": "code",
   "execution_count": 8,
   "id": "3b287daf-05cc-4b0c-a7e3-2c7bcbf32720",
   "metadata": {},
   "outputs": [
    {
     "data": {
      "text/plain": [
       "<matplotlib.collections.LineCollection at 0x1ab0194f490>"
      ]
     },
     "execution_count": 8,
     "metadata": {},
     "output_type": "execute_result"
    },
    {
     "data": {
      "image/png": "[encoded data removed]",
      "text/plain": [
       "<Figure size 640x480 with 1 Axes>"
      ]
     },
     "metadata": {},
     "output_type": "display_data"
    }
   ],
   "source": [
    "mg.plot()"
   ]
  },
  {
   "cell_type": "markdown",
   "id": "74356cf7-1989-4171-8116-b9b861197314",
   "metadata": {},
   "source": [
    "Bounds"
   ]
  },
  {
   "cell_type": "code",
   "execution_count": 9,
   "id": "bd13bc9e-edf2-4418-b753-d70da5e0205c",
   "metadata": {},
   "outputs": [],
   "source": [
    "X=mg.get_xvertices_for_layer(0)\n",
    "Y=mg.get_yvertices_for_layer(0)"
   ]
  },
  {
   "cell_type": "code",
   "execution_count": 10,
   "id": "c31d781c-7746-441c-acbb-02b05bb7981c",
   "metadata": {},
   "outputs": [
    {
     "name": "stdout",
     "output_type": "stream",
     "text": [
      "POLYGON ((582198.1 840855.958, 582198.1 856055.958, 605698.1 856055.958, 605698.1 840855.958, 582198.1 840855.958))\n"
     ]
    }
   ],
   "source": [
    "xmin=np.min(X)\n",
    "xmax=np.max(X)\n",
    "ymin=np.min(Y)\n",
    "ymax=np.max(Y)\n",
    "bounds = Polygon([(xmin,ymin),(xmin,ymax),(xmax,ymax),(xmax,ymin),(xmin,ymin)])\n",
    "xmin,ymin,xmax,ymax\n",
    "print(bounds)"
   ]
  },
  {
   "cell_type": "markdown",
   "id": "5d251b02-dd7d-4dd1-8194-c3f3bc5c4b10",
   "metadata": {},
   "source": [
    "Create geodataframe object from modelgrid"
   ]
  },
  {
   "cell_type": "code",
   "execution_count": 11,
   "id": "283d58af-a683-4d6a-bd58-dee2a951f0a1",
   "metadata": {},
   "outputs": [],
   "source": [
    "gdf = gpd.GeoDataFrame(data={'geometry':[bounds]},crs=mg.crs)"
   ]
  },
  {
   "cell_type": "code",
   "execution_count": 12,
   "id": "616df226-8f81-4fd1-8a21-e3448141827c",
   "metadata": {
    "scrolled": true
   },
   "outputs": [
    {
     "data": {
      "text/html": [
       "<div style=\"width:100%;\"><div style=\"position:relative;width:100%;height:0;padding-bottom:60%;\"><span style=\"color:#565656\">Make this Notebook Trusted to load map: File -> Trust Notebook</span><iframe srcdoc=\"&lt;!DOCTYPE html&gt;\n",
       "&lt;html&gt;\n",
       "&lt;head&gt;\n",
       "    \n",
       "    &lt;meta http-equiv=&quot;content-type&quot; content=&quot;text/html; charset=UTF-8&quot; /&gt;\n",
       "    \n",
       "        &lt;script&gt;\n",
       "            L_NO_TOUCH = false;\n",
       "            L_DISABLE_3D = false;\n",
       "        &lt;/script&gt;\n",
       "    \n",
       "    &lt;style&gt;html, body {width: 100%;height: 100%;margin: 0;padding: 0;}&lt;/style&gt;\n",
       "    &lt;style&gt;#map {position:absolute;top:0;bottom:0;right:0;left:0;}&lt;/style&gt;\n",
       "    &lt;script src=&quot;https://cdn.jsdelivr.net/npm/leaflet@1.9.3/dist/leaflet.js&quot;&gt;&lt;/script&gt;\n",
       "    &lt;script src=&quot;https://code.jquery.com/jquery-3.7.1.min.js&quot;&gt;&lt;/script&gt;\n",
       "    &lt;script src=&quot;https://cdn.jsdelivr.net/npm/bootstrap@5.2.2/dist/js/bootstrap.bundle.min.js&quot;&gt;&lt;/script&gt;\n",
       "    &lt;script src=&quot;https://cdnjs.cloudflare.com/ajax/libs/Leaflet.awesome-markers/2.0.2/leaflet.awesome-markers.js&quot;&gt;&lt;/script&gt;\n",
       "    &lt;link rel=&quot;stylesheet&quot; href=&quot;https://cdn.jsdelivr.net/npm/leaflet@1.9.3/dist/leaflet.css&quot;/&gt;\n",
       "    &lt;link rel=&quot;stylesheet&quot; href=&quot;https://cdn.jsdelivr.net/npm/bootstrap@5.2.2/dist/css/bootstrap.min.css&quot;/&gt;\n",
       "    &lt;link rel=&quot;stylesheet&quot; href=&quot;https://netdna.bootstrapcdn.com/bootstrap/3.0.0/css/bootstrap-glyphicons.css&quot;/&gt;\n",
       "    &lt;link rel=&quot;stylesheet&quot; href=&quot;https://cdn.jsdelivr.net/npm/@fortawesome/fontawesome-free@6.2.0/css/all.min.css&quot;/&gt;\n",
       "    &lt;link rel=&quot;stylesheet&quot; href=&quot;https://cdnjs.cloudflare.com/ajax/libs/Leaflet.awesome-markers/2.0.2/leaflet.awesome-markers.css&quot;/&gt;\n",
       "    &lt;link rel=&quot;stylesheet&quot; href=&quot;https://cdn.jsdelivr.net/gh/python-visualization/folium/folium/templates/leaflet.awesome.rotate.min.css&quot;/&gt;\n",
       "    \n",
       "            &lt;meta name=&quot;viewport&quot; content=&quot;width=device-width,\n",
       "                initial-scale=1.0, maximum-scale=1.0, user-scalable=no&quot; /&gt;\n",
       "            &lt;style&gt;\n",
       "                #map_ce3d002e394f8d54c4750cd26830eb8a {\n",
       "                    position: relative;\n",
       "                    width: 100.0%;\n",
       "                    height: 100.0%;\n",
       "                    left: 0.0%;\n",
       "                    top: 0.0%;\n",
       "                }\n",
       "                .leaflet-container { font-size: 1rem; }\n",
       "            &lt;/style&gt;\n",
       "        \n",
       "    \n",
       "                    &lt;style&gt;\n",
       "                        .foliumtooltip {\n",
       "                            \n",
       "                        }\n",
       "                       .foliumtooltip table{\n",
       "                            margin: auto;\n",
       "                        }\n",
       "                        .foliumtooltip tr{\n",
       "                            text-align: left;\n",
       "                        }\n",
       "                        .foliumtooltip th{\n",
       "                            padding: 2px; padding-right: 8px;\n",
       "                        }\n",
       "                    &lt;/style&gt;\n",
       "            \n",
       "&lt;/head&gt;\n",
       "&lt;body&gt;\n",
       "    \n",
       "    \n",
       "            &lt;div class=&quot;folium-map&quot; id=&quot;map_ce3d002e394f8d54c4750cd26830eb8a&quot; &gt;&lt;/div&gt;\n",
       "        \n",
       "&lt;/body&gt;\n",
       "&lt;script&gt;\n",
       "    \n",
       "    \n",
       "            var map_ce3d002e394f8d54c4750cd26830eb8a = L.map(\n",
       "                &quot;map_ce3d002e394f8d54c4750cd26830eb8a&quot;,\n",
       "                {\n",
       "                    center: [42.99460269099274, -108.39948578813696],\n",
       "                    crs: L.CRS.EPSG3857,\n",
       "                    zoom: 10,\n",
       "                    zoomControl: true,\n",
       "                    preferCanvas: false,\n",
       "                }\n",
       "            );\n",
       "            L.control.scale().addTo(map_ce3d002e394f8d54c4750cd26830eb8a);\n",
       "\n",
       "            \n",
       "\n",
       "        \n",
       "    \n",
       "            var tile_layer_91a0782bad6b44b3f13d966987c528b8 = L.tileLayer(\n",
       "                &quot;https://tile.openstreetmap.org/{z}/{x}/{y}.png&quot;,\n",
       "                {&quot;attribution&quot;: &quot;\\u0026copy; \\u003ca href=\\&quot;https://www.openstreetmap.org/copyright\\&quot;\\u003eOpenStreetMap\\u003c/a\\u003e contributors&quot;, &quot;detectRetina&quot;: false, &quot;maxNativeZoom&quot;: 19, &quot;maxZoom&quot;: 19, &quot;minZoom&quot;: 0, &quot;noWrap&quot;: false, &quot;opacity&quot;: 1, &quot;subdomains&quot;: &quot;abc&quot;, &quot;tms&quot;: false}\n",
       "            );\n",
       "        \n",
       "    \n",
       "            tile_layer_91a0782bad6b44b3f13d966987c528b8.addTo(map_ce3d002e394f8d54c4750cd26830eb8a);\n",
       "        \n",
       "    \n",
       "            map_ce3d002e394f8d54c4750cd26830eb8a.fitBounds(\n",
       "                [[42.973615245362176, -108.44352486113284], [43.01559013662331, -108.35544671514107]],\n",
       "                {}\n",
       "            );\n",
       "        \n",
       "    \n",
       "        function geo_json_afbe45c21caa11cb3ef3452e932b87e8_styler(feature) {\n",
       "            switch(feature.id) {\n",
       "                default:\n",
       "                    return {&quot;fillOpacity&quot;: 0.5, &quot;weight&quot;: 2};\n",
       "            }\n",
       "        }\n",
       "        function geo_json_afbe45c21caa11cb3ef3452e932b87e8_highlighter(feature) {\n",
       "            switch(feature.id) {\n",
       "                default:\n",
       "                    return {&quot;fillOpacity&quot;: 0.75};\n",
       "            }\n",
       "        }\n",
       "        function geo_json_afbe45c21caa11cb3ef3452e932b87e8_pointToLayer(feature, latlng) {\n",
       "            var opts = {&quot;bubblingMouseEvents&quot;: true, &quot;color&quot;: &quot;#3388ff&quot;, &quot;dashArray&quot;: null, &quot;dashOffset&quot;: null, &quot;fill&quot;: true, &quot;fillColor&quot;: &quot;#3388ff&quot;, &quot;fillOpacity&quot;: 0.2, &quot;fillRule&quot;: &quot;evenodd&quot;, &quot;lineCap&quot;: &quot;round&quot;, &quot;lineJoin&quot;: &quot;round&quot;, &quot;opacity&quot;: 1.0, &quot;radius&quot;: 2, &quot;stroke&quot;: true, &quot;weight&quot;: 3};\n",
       "            \n",
       "            let style = geo_json_afbe45c21caa11cb3ef3452e932b87e8_styler(feature)\n",
       "            Object.assign(opts, style)\n",
       "            \n",
       "            return new L.CircleMarker(latlng, opts)\n",
       "        }\n",
       "\n",
       "        function geo_json_afbe45c21caa11cb3ef3452e932b87e8_onEachFeature(feature, layer) {\n",
       "            layer.on({\n",
       "                mouseout: function(e) {\n",
       "                    if(typeof e.target.setStyle === &quot;function&quot;){\n",
       "                            geo_json_afbe45c21caa11cb3ef3452e932b87e8.resetStyle(e.target);\n",
       "                    }\n",
       "                },\n",
       "                mouseover: function(e) {\n",
       "                    if(typeof e.target.setStyle === &quot;function&quot;){\n",
       "                        const highlightStyle = geo_json_afbe45c21caa11cb3ef3452e932b87e8_highlighter(e.target.feature)\n",
       "                        e.target.setStyle(highlightStyle);\n",
       "                    }\n",
       "                },\n",
       "            });\n",
       "        };\n",
       "        var geo_json_afbe45c21caa11cb3ef3452e932b87e8 = L.geoJson(null, {\n",
       "                onEachFeature: geo_json_afbe45c21caa11cb3ef3452e932b87e8_onEachFeature,\n",
       "            \n",
       "                style: geo_json_afbe45c21caa11cb3ef3452e932b87e8_styler,\n",
       "                pointToLayer: geo_json_afbe45c21caa11cb3ef3452e932b87e8_pointToLayer,\n",
       "        });\n",
       "\n",
       "        function geo_json_afbe45c21caa11cb3ef3452e932b87e8_add (data) {\n",
       "            geo_json_afbe45c21caa11cb3ef3452e932b87e8\n",
       "                .addData(data);\n",
       "        }\n",
       "            geo_json_afbe45c21caa11cb3ef3452e932b87e8_add({&quot;bbox&quot;: [-108.44352486113284, 42.973615245362176, -108.35544671514107, 43.01559013662331], &quot;features&quot;: [{&quot;bbox&quot;: [-108.44352486113284, 42.973615245362176, -108.35544671514107, 43.01559013662331], &quot;geometry&quot;: {&quot;coordinates&quot;: [[[-108.44352486113284, 42.973884522059556], [-108.4433172860303, 43.01559013662331], [-108.35544671514107, 43.01532036090594], [-108.35571372226076, 42.973615245362176], [-108.44352486113284, 42.973884522059556]]], &quot;type&quot;: &quot;Polygon&quot;}, &quot;id&quot;: &quot;0&quot;, &quot;properties&quot;: {}, &quot;type&quot;: &quot;Feature&quot;}], &quot;type&quot;: &quot;FeatureCollection&quot;});\n",
       "\n",
       "        \n",
       "    \n",
       "    geo_json_afbe45c21caa11cb3ef3452e932b87e8.bindTooltip(\n",
       "    function(layer){\n",
       "    let div = L.DomUtil.create(&#x27;div&#x27;);\n",
       "    \n",
       "    return div\n",
       "    }\n",
       "    ,{&quot;className&quot;: &quot;foliumtooltip&quot;, &quot;sticky&quot;: true});\n",
       "                     \n",
       "    \n",
       "            geo_json_afbe45c21caa11cb3ef3452e932b87e8.addTo(map_ce3d002e394f8d54c4750cd26830eb8a);\n",
       "        \n",
       "&lt;/script&gt;\n",
       "&lt;/html&gt;\" style=\"position:absolute;width:100%;height:100%;left:0;top:0;border:none !important;\" allowfullscreen webkitallowfullscreen mozallowfullscreen></iframe></div></div>"
      ],
      "text/plain": [
       "<folium.folium.Map at 0x1ab661a1310>"
      ]
     },
     "execution_count": 12,
     "metadata": {},
     "output_type": "execute_result"
    }
   ],
   "source": [
    "gdf.explore()"
   ]
  },
  {
   "cell_type": "markdown",
   "id": "c967d723-4a64-4eac-88cc-a715a2ec54a8",
   "metadata": {},
   "source": [
    "Projection system conversion and plotting well locations-ssma 1000-1012"
   ]
  },
  {
   "cell_type": "code",
   "execution_count": 13,
   "id": "e0010d83-0bc4-488c-85e2-3b94ae9a2135",
   "metadata": {},
   "outputs": [],
   "source": [
    "well_locations = [Point(2062051.69, 906979.12), \n",
    "                  Point(2062050.44, 906976.41), \n",
    "                  Point(2062049.19, 906973.83),\n",
    "                  Point(2062049.92, 906968.00),\n",
    "                  Point(2062051.90, 906972.36),\n",
    "                  Point(2062053.27, 906975.17),\n",
    "                  Point(2062054.54, 906977.86), \n",
    "                  Point(2062056.37, 906982.51),\n",
    "                  Point(2062060.97, 906980.41),\n",
    "                  Point(2062058.99, 906975.91),\n",
    "                  Point(2062057.78, 906973.18),\n",
    "                  Point(2062056.30, 906970.47),\n",
    "                  Point(2062054.27, 906965.98)]"
   ]
  },
  {
   "cell_type": "code",
   "execution_count": 14,
   "id": "9bea21e3-bd6c-4db7-8269-1b409a354671",
   "metadata": {},
   "outputs": [],
   "source": [
    "pw = gpd.GeoDataFrame(data={'geometry': well_locations}, crs=6618).to_crs(mg.crs)"
   ]
  },
  {
   "cell_type": "code",
   "execution_count": 15,
   "id": "86052e17-e1cb-44be-bc0f-417c2af4c74b",
   "metadata": {},
   "outputs": [
    {
     "data": {
      "text/html": [
       "<div style=\"width:100%;\"><div style=\"position:relative;width:100%;height:0;padding-bottom:60%;\"><span style=\"color:#565656\">Make this Notebook Trusted to load map: File -> Trust Notebook</span><iframe srcdoc=\"&lt;!DOCTYPE html&gt;\n",
       "&lt;html&gt;\n",
       "&lt;head&gt;\n",
       "    \n",
       "    &lt;meta http-equiv=&quot;content-type&quot; content=&quot;text/html; charset=UTF-8&quot; /&gt;\n",
       "    \n",
       "        &lt;script&gt;\n",
       "            L_NO_TOUCH = false;\n",
       "            L_DISABLE_3D = false;\n",
       "        &lt;/script&gt;\n",
       "    \n",
       "    &lt;style&gt;html, body {width: 100%;height: 100%;margin: 0;padding: 0;}&lt;/style&gt;\n",
       "    &lt;style&gt;#map {position:absolute;top:0;bottom:0;right:0;left:0;}&lt;/style&gt;\n",
       "    &lt;script src=&quot;https://cdn.jsdelivr.net/npm/leaflet@1.9.3/dist/leaflet.js&quot;&gt;&lt;/script&gt;\n",
       "    &lt;script src=&quot;https://code.jquery.com/jquery-3.7.1.min.js&quot;&gt;&lt;/script&gt;\n",
       "    &lt;script src=&quot;https://cdn.jsdelivr.net/npm/bootstrap@5.2.2/dist/js/bootstrap.bundle.min.js&quot;&gt;&lt;/script&gt;\n",
       "    &lt;script src=&quot;https://cdnjs.cloudflare.com/ajax/libs/Leaflet.awesome-markers/2.0.2/leaflet.awesome-markers.js&quot;&gt;&lt;/script&gt;\n",
       "    &lt;link rel=&quot;stylesheet&quot; href=&quot;https://cdn.jsdelivr.net/npm/leaflet@1.9.3/dist/leaflet.css&quot;/&gt;\n",
       "    &lt;link rel=&quot;stylesheet&quot; href=&quot;https://cdn.jsdelivr.net/npm/bootstrap@5.2.2/dist/css/bootstrap.min.css&quot;/&gt;\n",
       "    &lt;link rel=&quot;stylesheet&quot; href=&quot;https://netdna.bootstrapcdn.com/bootstrap/3.0.0/css/bootstrap-glyphicons.css&quot;/&gt;\n",
       "    &lt;link rel=&quot;stylesheet&quot; href=&quot;https://cdn.jsdelivr.net/npm/@fortawesome/fontawesome-free@6.2.0/css/all.min.css&quot;/&gt;\n",
       "    &lt;link rel=&quot;stylesheet&quot; href=&quot;https://cdnjs.cloudflare.com/ajax/libs/Leaflet.awesome-markers/2.0.2/leaflet.awesome-markers.css&quot;/&gt;\n",
       "    &lt;link rel=&quot;stylesheet&quot; href=&quot;https://cdn.jsdelivr.net/gh/python-visualization/folium/folium/templates/leaflet.awesome.rotate.min.css&quot;/&gt;\n",
       "    \n",
       "            &lt;meta name=&quot;viewport&quot; content=&quot;width=device-width,\n",
       "                initial-scale=1.0, maximum-scale=1.0, user-scalable=no&quot; /&gt;\n",
       "            &lt;style&gt;\n",
       "                #map_cdfba04dbeac85fb2e796f5c057c7225 {\n",
       "                    position: relative;\n",
       "                    width: 100.0%;\n",
       "                    height: 100.0%;\n",
       "                    left: 0.0%;\n",
       "                    top: 0.0%;\n",
       "                }\n",
       "                .leaflet-container { font-size: 1rem; }\n",
       "            &lt;/style&gt;\n",
       "        \n",
       "    \n",
       "                    &lt;style&gt;\n",
       "                        .foliumtooltip {\n",
       "                            \n",
       "                        }\n",
       "                       .foliumtooltip table{\n",
       "                            margin: auto;\n",
       "                        }\n",
       "                        .foliumtooltip tr{\n",
       "                            text-align: left;\n",
       "                        }\n",
       "                        .foliumtooltip th{\n",
       "                            padding: 2px; padding-right: 8px;\n",
       "                        }\n",
       "                    &lt;/style&gt;\n",
       "            \n",
       "&lt;/head&gt;\n",
       "&lt;body&gt;\n",
       "    \n",
       "    \n",
       "            &lt;div class=&quot;folium-map&quot; id=&quot;map_cdfba04dbeac85fb2e796f5c057c7225&quot; &gt;&lt;/div&gt;\n",
       "        \n",
       "&lt;/body&gt;\n",
       "&lt;script&gt;\n",
       "    \n",
       "    \n",
       "            var map_cdfba04dbeac85fb2e796f5c057c7225 = L.map(\n",
       "                &quot;map_cdfba04dbeac85fb2e796f5c057c7225&quot;,\n",
       "                {\n",
       "                    center: [42.98859566717976, -108.40033487019306],\n",
       "                    crs: L.CRS.EPSG3857,\n",
       "                    zoom: 10,\n",
       "                    zoomControl: true,\n",
       "                    preferCanvas: false,\n",
       "                }\n",
       "            );\n",
       "            L.control.scale().addTo(map_cdfba04dbeac85fb2e796f5c057c7225);\n",
       "\n",
       "            \n",
       "\n",
       "        \n",
       "    \n",
       "            var tile_layer_62a67777e5dcc41f045b18d4bb17d439 = L.tileLayer(\n",
       "                &quot;https://tile.openstreetmap.org/{z}/{x}/{y}.png&quot;,\n",
       "                {&quot;attribution&quot;: &quot;\\u0026copy; \\u003ca href=\\&quot;https://www.openstreetmap.org/copyright\\&quot;\\u003eOpenStreetMap\\u003c/a\\u003e contributors&quot;, &quot;detectRetina&quot;: false, &quot;maxNativeZoom&quot;: 19, &quot;maxZoom&quot;: 19, &quot;minZoom&quot;: 0, &quot;noWrap&quot;: false, &quot;opacity&quot;: 1, &quot;subdomains&quot;: &quot;abc&quot;, &quot;tms&quot;: false}\n",
       "            );\n",
       "        \n",
       "    \n",
       "            tile_layer_62a67777e5dcc41f045b18d4bb17d439.addTo(map_cdfba04dbeac85fb2e796f5c057c7225);\n",
       "        \n",
       "    \n",
       "            map_cdfba04dbeac85fb2e796f5c057c7225.fitBounds(\n",
       "                [[42.98857300200907, -108.4003569354153], [42.98861833235045, -108.40031280497082]],\n",
       "                {}\n",
       "            );\n",
       "        \n",
       "    \n",
       "        function geo_json_5468c5f076362a57554a6c55dadc4da4_styler(feature) {\n",
       "            switch(feature.id) {\n",
       "                default:\n",
       "                    return {&quot;fillOpacity&quot;: 0.5, &quot;weight&quot;: 2};\n",
       "            }\n",
       "        }\n",
       "        function geo_json_5468c5f076362a57554a6c55dadc4da4_highlighter(feature) {\n",
       "            switch(feature.id) {\n",
       "                default:\n",
       "                    return {&quot;fillOpacity&quot;: 0.75};\n",
       "            }\n",
       "        }\n",
       "        function geo_json_5468c5f076362a57554a6c55dadc4da4_pointToLayer(feature, latlng) {\n",
       "            var opts = {&quot;bubblingMouseEvents&quot;: true, &quot;color&quot;: &quot;#3388ff&quot;, &quot;dashArray&quot;: null, &quot;dashOffset&quot;: null, &quot;fill&quot;: true, &quot;fillColor&quot;: &quot;#3388ff&quot;, &quot;fillOpacity&quot;: 0.2, &quot;fillRule&quot;: &quot;evenodd&quot;, &quot;lineCap&quot;: &quot;round&quot;, &quot;lineJoin&quot;: &quot;round&quot;, &quot;opacity&quot;: 1.0, &quot;radius&quot;: 2, &quot;stroke&quot;: true, &quot;weight&quot;: 3};\n",
       "            \n",
       "            let style = geo_json_5468c5f076362a57554a6c55dadc4da4_styler(feature)\n",
       "            Object.assign(opts, style)\n",
       "            \n",
       "            return new L.CircleMarker(latlng, opts)\n",
       "        }\n",
       "\n",
       "        function geo_json_5468c5f076362a57554a6c55dadc4da4_onEachFeature(feature, layer) {\n",
       "            layer.on({\n",
       "                mouseout: function(e) {\n",
       "                    if(typeof e.target.setStyle === &quot;function&quot;){\n",
       "                            geo_json_5468c5f076362a57554a6c55dadc4da4.resetStyle(e.target);\n",
       "                    }\n",
       "                },\n",
       "                mouseover: function(e) {\n",
       "                    if(typeof e.target.setStyle === &quot;function&quot;){\n",
       "                        const highlightStyle = geo_json_5468c5f076362a57554a6c55dadc4da4_highlighter(e.target.feature)\n",
       "                        e.target.setStyle(highlightStyle);\n",
       "                    }\n",
       "                },\n",
       "            });\n",
       "        };\n",
       "        var geo_json_5468c5f076362a57554a6c55dadc4da4 = L.geoJson(null, {\n",
       "                onEachFeature: geo_json_5468c5f076362a57554a6c55dadc4da4_onEachFeature,\n",
       "            \n",
       "                style: geo_json_5468c5f076362a57554a6c55dadc4da4_styler,\n",
       "                pointToLayer: geo_json_5468c5f076362a57554a6c55dadc4da4_pointToLayer,\n",
       "        });\n",
       "\n",
       "        function geo_json_5468c5f076362a57554a6c55dadc4da4_add (data) {\n",
       "            geo_json_5468c5f076362a57554a6c55dadc4da4\n",
       "                .addData(data);\n",
       "        }\n",
       "            geo_json_5468c5f076362a57554a6c55dadc4da4_add({&quot;bbox&quot;: [-108.4003569354153, 42.98857300200907, -108.40031280497082, 42.98861833235045], &quot;features&quot;: [{&quot;bbox&quot;: [-108.40034750930467, 42.98860908438115, -108.40034750930467, 42.98860908438115], &quot;geometry&quot;: {&quot;coordinates&quot;: [-108.40034750930467, 42.98860908438115], &quot;type&quot;: &quot;Point&quot;}, &quot;id&quot;: &quot;0&quot;, &quot;properties&quot;: {}, &quot;type&quot;: &quot;Feature&quot;}, {&quot;bbox&quot;: [-108.40035222337168, 42.988601663054986, -108.40035222337168, 42.988601663054986], &quot;geometry&quot;: {&quot;coordinates&quot;: [-108.40035222337168, 42.988601663054986], &quot;type&quot;: &quot;Point&quot;}, &quot;id&quot;: &quot;1&quot;, &quot;properties&quot;: {}, &quot;type&quot;: &quot;Feature&quot;}, {&quot;bbox&quot;: [-108.4003569354153, 42.9885945984169, -108.4003569354153, 42.9885945984169], &quot;geometry&quot;: {&quot;coordinates&quot;: [-108.4003569354153, 42.9885945984169], &quot;type&quot;: &quot;Point&quot;}, &quot;id&quot;: &quot;2&quot;, &quot;properties&quot;: {}, &quot;type&quot;: &quot;Feature&quot;}, {&quot;bbox&quot;: [-108.40035429771008, 42.98857859399587, -108.40035429771008, 42.98857859399587], &quot;geometry&quot;: {&quot;coordinates&quot;: [-108.40035429771008, 42.98857859399587], &quot;type&quot;: &quot;Point&quot;}, &quot;id&quot;: &quot;3&quot;, &quot;properties&quot;: {}, &quot;type&quot;: &quot;Feature&quot;}, {&quot;bbox&quot;: [-108.40034682958292, 42.988590534196035, -108.40034682958292, 42.988590534196035], &quot;geometry&quot;: {&quot;coordinates&quot;: [-108.40034682958292, 42.988590534196035], &quot;type&quot;: &quot;Point&quot;}, &quot;id&quot;: &quot;4&quot;, &quot;properties&quot;: {}, &quot;type&quot;: &quot;Feature&quot;}, {&quot;bbox&quot;: [-108.40034166545716, 42.98859822852931, -108.40034166545716, 42.98859822852931], &quot;geometry&quot;: {&quot;coordinates&quot;: [-108.40034166545716, 42.98859822852931], &quot;type&quot;: &quot;Point&quot;}, &quot;id&quot;: &quot;5&quot;, &quot;properties&quot;: {}, &quot;type&quot;: &quot;Feature&quot;}, {&quot;bbox&quot;: [-108.40033687694972, 42.988605594751895, -108.40033687694972, 42.988605594751895], &quot;geometry&quot;: {&quot;coordinates&quot;: [-108.40033687694972, 42.988605594751895], &quot;type&quot;: &quot;Point&quot;}, &quot;id&quot;: &quot;6&quot;, &quot;properties&quot;: {}, &quot;type&quot;: &quot;Feature&quot;}, {&quot;bbox&quot;: [-108.40032996493353, 42.98861833235045, -108.40032996493353, 42.98861833235045], &quot;geometry&quot;: {&quot;coordinates&quot;: [-108.40032996493353, 42.98861833235045], &quot;type&quot;: &quot;Point&quot;}, &quot;id&quot;: &quot;7&quot;, &quot;properties&quot;: {}, &quot;type&quot;: &quot;Feature&quot;}, {&quot;bbox&quot;: [-108.40031280497082, 42.988612518008885, -108.40031280497082, 42.988612518008885], &quot;geometry&quot;: {&quot;coordinates&quot;: [-108.40031280497082, 42.988612518008885], &quot;type&quot;: &quot;Point&quot;}, &quot;id&quot;: &quot;8&quot;, &quot;properties&quot;: {}, &quot;type&quot;: &quot;Feature&quot;}, {&quot;bbox&quot;: [-108.40032027528551, 42.9886001936852, -108.40032027528551, 42.9886001936852], &quot;geometry&quot;: {&quot;coordinates&quot;: [-108.40032027528551, 42.9886001936852], &quot;type&quot;: &quot;Point&quot;}, &quot;id&quot;: &quot;9&quot;, &quot;properties&quot;: {}, &quot;type&quot;: &quot;Feature&quot;}, {&quot;bbox&quot;: [-108.40032484016517, 42.98859271702894, -108.40032484016517, 42.98859271702894], &quot;geometry&quot;: {&quot;coordinates&quot;: [-108.40032484016517, 42.98859271702894], &quot;type&quot;: &quot;Point&quot;}, &quot;id&quot;: &quot;10&quot;, &quot;properties&quot;: {}, &quot;type&quot;: &quot;Feature&quot;}, {&quot;bbox&quot;: [-108.40033041386484, 42.98858529832632, -108.40033041386484, 42.98858529832632], &quot;geometry&quot;: {&quot;coordinates&quot;: [-108.40033041386484, 42.98858529832632], &quot;type&quot;: &quot;Point&quot;}, &quot;id&quot;: &quot;11&quot;, &quot;properties&quot;: {}, &quot;type&quot;: &quot;Feature&quot;}, {&quot;bbox&quot;: [-108.40033807089318, 42.98857300200907, -108.40033807089318, 42.98857300200907], &quot;geometry&quot;: {&quot;coordinates&quot;: [-108.40033807089318, 42.98857300200907], &quot;type&quot;: &quot;Point&quot;}, &quot;id&quot;: &quot;12&quot;, &quot;properties&quot;: {}, &quot;type&quot;: &quot;Feature&quot;}], &quot;type&quot;: &quot;FeatureCollection&quot;});\n",
       "\n",
       "        \n",
       "    \n",
       "    geo_json_5468c5f076362a57554a6c55dadc4da4.bindTooltip(\n",
       "    function(layer){\n",
       "    let div = L.DomUtil.create(&#x27;div&#x27;);\n",
       "    \n",
       "    return div\n",
       "    }\n",
       "    ,{&quot;className&quot;: &quot;foliumtooltip&quot;, &quot;sticky&quot;: true});\n",
       "                     \n",
       "    \n",
       "            geo_json_5468c5f076362a57554a6c55dadc4da4.addTo(map_cdfba04dbeac85fb2e796f5c057c7225);\n",
       "        \n",
       "&lt;/script&gt;\n",
       "&lt;/html&gt;\" style=\"position:absolute;width:100%;height:100%;left:0;top:0;border:none !important;\" allowfullscreen webkitallowfullscreen mozallowfullscreen></iframe></div></div>"
      ],
      "text/plain": [
       "<folium.folium.Map at 0x1ab71c8aa10>"
      ]
     },
     "execution_count": 15,
     "metadata": {},
     "output_type": "execute_result"
    }
   ],
   "source": [
    "pw.explore()"
   ]
  },
  {
   "cell_type": "code",
   "execution_count": 16,
   "id": "b602c5a8-9314-456e-b9b8-a642f827b934",
   "metadata": {},
   "outputs": [
    {
     "data": {
      "text/html": [
       "<div>\n",
       "<style scoped>\n",
       "    .dataframe tbody tr th:only-of-type {\n",
       "        vertical-align: middle;\n",
       "    }\n",
       "\n",
       "    .dataframe tbody tr th {\n",
       "        vertical-align: top;\n",
       "    }\n",
       "\n",
       "    .dataframe thead th {\n",
       "        text-align: right;\n",
       "    }\n",
       "</style>\n",
       "<table border=\"1\" class=\"dataframe\">\n",
       "  <thead>\n",
       "    <tr style=\"text-align: right;\">\n",
       "      <th></th>\n",
       "      <th>geometry</th>\n",
       "    </tr>\n",
       "  </thead>\n",
       "  <tbody>\n",
       "    <tr>\n",
       "      <th>0</th>\n",
       "      <td>POINT (593730.641 846267.604)</td>\n",
       "    </tr>\n",
       "    <tr>\n",
       "      <th>1</th>\n",
       "      <td>POINT (593729.391 846264.894)</td>\n",
       "    </tr>\n",
       "    <tr>\n",
       "      <th>2</th>\n",
       "      <td>POINT (593728.141 846262.314)</td>\n",
       "    </tr>\n",
       "    <tr>\n",
       "      <th>3</th>\n",
       "      <td>POINT (593728.871 846256.484)</td>\n",
       "    </tr>\n",
       "    <tr>\n",
       "      <th>4</th>\n",
       "      <td>POINT (593730.851 846260.844)</td>\n",
       "    </tr>\n",
       "    <tr>\n",
       "      <th>5</th>\n",
       "      <td>POINT (593732.221 846263.654)</td>\n",
       "    </tr>\n",
       "    <tr>\n",
       "      <th>6</th>\n",
       "      <td>POINT (593733.491 846266.344)</td>\n",
       "    </tr>\n",
       "    <tr>\n",
       "      <th>7</th>\n",
       "      <td>POINT (593735.321 846270.994)</td>\n",
       "    </tr>\n",
       "    <tr>\n",
       "      <th>8</th>\n",
       "      <td>POINT (593739.921 846268.894)</td>\n",
       "    </tr>\n",
       "    <tr>\n",
       "      <th>9</th>\n",
       "      <td>POINT (593737.941 846264.394)</td>\n",
       "    </tr>\n",
       "    <tr>\n",
       "      <th>10</th>\n",
       "      <td>POINT (593736.731 846261.664)</td>\n",
       "    </tr>\n",
       "    <tr>\n",
       "      <th>11</th>\n",
       "      <td>POINT (593735.251 846258.954)</td>\n",
       "    </tr>\n",
       "    <tr>\n",
       "      <th>12</th>\n",
       "      <td>POINT (593733.221 846254.464)</td>\n",
       "    </tr>\n",
       "  </tbody>\n",
       "</table>\n",
       "</div>"
      ],
      "text/plain": [
       "                         geometry\n",
       "0   POINT (593730.641 846267.604)\n",
       "1   POINT (593729.391 846264.894)\n",
       "2   POINT (593728.141 846262.314)\n",
       "3   POINT (593728.871 846256.484)\n",
       "4   POINT (593730.851 846260.844)\n",
       "5   POINT (593732.221 846263.654)\n",
       "6   POINT (593733.491 846266.344)\n",
       "7   POINT (593735.321 846270.994)\n",
       "8   POINT (593739.921 846268.894)\n",
       "9   POINT (593737.941 846264.394)\n",
       "10  POINT (593736.731 846261.664)\n",
       "11  POINT (593735.251 846258.954)\n",
       "12  POINT (593733.221 846254.464)"
      ]
     },
     "execution_count": 16,
     "metadata": {},
     "output_type": "execute_result"
    }
   ],
   "source": [
    "pw"
   ]
  },
  {
   "cell_type": "markdown",
   "id": "088c3e23-b5d6-439d-8272-74bc56f46f17",
   "metadata": {},
   "source": [
    "Intersection of wells with modelgrid to find out cellids (nodes)"
   ]
  },
  {
   "cell_type": "code",
   "execution_count": 17,
   "id": "6c426291-cda7-4aec-8e4c-900369f2068a",
   "metadata": {},
   "outputs": [
    {
     "name": "stdout",
     "output_type": "stream",
     "text": [
      "[414847, 415667, 415667, 415667, 415667, 415667, 414847, 414847, 414848, 415667, 415667, 415667, 416487]\n"
     ]
    }
   ],
   "source": [
    "results = []\n",
    "for well in pw.geometry:\n",
    "  x, y = well.xy\n",
    "  intersection = mg.intersect(x[0], y[0])  \n",
    "  results.append(intersection)\n",
    "\n",
    "print(results)"
   ]
  },
  {
   "cell_type": "markdown",
   "id": "e42c8506-c2be-4427-82ab-7cc91346d594",
   "metadata": {},
   "source": [
    "Converting from steady state to transient"
   ]
  },
  {
   "cell_type": "raw",
   "id": "dee443b4-ea7a-4356-ad08-438d5e310731",
   "metadata": {},
   "source": [
    "Timestep=100, Stress period 1 length=4 hours (1/6 day), Multiplier=1.2"
   ]
  },
  {
   "cell_type": "code",
   "execution_count": 18,
   "id": "c2f84eca-b99b-4c71-ba2b-7f552f7ac45a",
   "metadata": {},
   "outputs": [
    {
     "name": "stdout",
     "output_type": "stream",
     "text": [
      "WARNING: tdis package already exists. Replacing existing tdis package.\n"
     ]
    }
   ],
   "source": [
    "tdis = flopy.mf6.ModflowTdis(\n",
    "    sim,\n",
    "    pname=\"tdis\",\n",
    "    time_units=\"DAYS\",\n",
    "    nper=1,\n",
    "    perioddata=[(0.16, 100, 1.2)]  \n",
    ")"
   ]
  },
  {
   "cell_type": "code",
   "execution_count": 19,
   "id": "23a46c3d-24cc-47fb-9694-3b773ecb82c5",
   "metadata": {},
   "outputs": [
    {
     "data": {
      "text/plain": [
       "{internal}\n",
       "(rec.array([(0.16, 100, 1.2)],\n",
       "          dtype=[('perlen', '<f8'), ('nstp', '<i4'), ('tsmult', '<f8')]))"
      ]
     },
     "execution_count": 19,
     "metadata": {},
     "output_type": "execute_result"
    }
   ],
   "source": [
    "sim.tdis.perioddata"
   ]
  },
  {
   "cell_type": "markdown",
   "id": "70de19d2-9b34-458f-9b15-a12c878c96d6",
   "metadata": {},
   "source": [
    "Creating a pandas DataFrame df from the tdis.array data"
   ]
  },
  {
   "cell_type": "code",
   "execution_count": 20,
   "id": "656ff519-a42e-4ca1-88e0-1371a65c3996",
   "metadata": {},
   "outputs": [],
   "source": [
    "df= pd.DataFrame.from_records(sim.tdis.perioddata.array)"
   ]
  },
  {
   "cell_type": "code",
   "execution_count": 21,
   "id": "74a6ad2d-a85f-4a2e-b1e8-354b2a28351b",
   "metadata": {},
   "outputs": [],
   "source": [
    "df = df.iloc[:1]"
   ]
  },
  {
   "cell_type": "code",
   "execution_count": 22,
   "id": "cf7fbdfa-c170-45e8-89ac-b06bc66f1037",
   "metadata": {},
   "outputs": [
    {
     "data": {
      "text/html": [
       "<div>\n",
       "<style scoped>\n",
       "    .dataframe tbody tr th:only-of-type {\n",
       "        vertical-align: middle;\n",
       "    }\n",
       "\n",
       "    .dataframe tbody tr th {\n",
       "        vertical-align: top;\n",
       "    }\n",
       "\n",
       "    .dataframe thead th {\n",
       "        text-align: right;\n",
       "    }\n",
       "</style>\n",
       "<table border=\"1\" class=\"dataframe\">\n",
       "  <thead>\n",
       "    <tr style=\"text-align: right;\">\n",
       "      <th></th>\n",
       "      <th>perlen</th>\n",
       "      <th>nstp</th>\n",
       "      <th>tsmult</th>\n",
       "    </tr>\n",
       "  </thead>\n",
       "  <tbody>\n",
       "    <tr>\n",
       "      <th>0</th>\n",
       "      <td>0.16</td>\n",
       "      <td>100</td>\n",
       "      <td>1.2</td>\n",
       "    </tr>\n",
       "  </tbody>\n",
       "</table>\n",
       "</div>"
      ],
      "text/plain": [
       "   perlen  nstp  tsmult\n",
       "0    0.16   100     1.2"
      ]
     },
     "execution_count": 22,
     "metadata": {},
     "output_type": "execute_result"
    }
   ],
   "source": [
    "df"
   ]
  },
  {
   "cell_type": "code",
   "execution_count": 23,
   "id": "f861b490-fcc6-4ccd-829e-feb04d417b04",
   "metadata": {},
   "outputs": [
    {
     "data": {
      "text/plain": [
       "package_name = tdis\n",
       "filename = mf6.tdis\n",
       "package_type = tdis\n",
       "model_or_simulation_package = simulation\n",
       "simulation_name = mf6\n",
       "\n",
       "Block options\n",
       "--------------------\n",
       "time_units\n",
       "{internal}\n",
       "('days')\n",
       "\n",
       "\n",
       "Block dimensions\n",
       "--------------------\n",
       "nper\n",
       "{internal}\n",
       "(1)\n",
       "\n",
       "\n",
       "Block perioddata\n",
       "--------------------\n",
       "perioddata\n",
       "{internal}\n",
       "(rec.array([(0.16, 100, 1.2)],\n",
       "          dtype=[('perlen', '<f8'), ('nstp', '<i4'), ('tsmult', '<f8')]))\n",
       "\n"
      ]
     },
     "execution_count": 23,
     "metadata": {},
     "output_type": "execute_result"
    }
   ],
   "source": [
    "sim.tdis"
   ]
  },
  {
   "cell_type": "code",
   "execution_count": 24,
   "id": "d0c1fc46-afd3-4c74-b283-e04585629171",
   "metadata": {},
   "outputs": [],
   "source": [
    "sim.tdis.perioddata = df.to_records(index=False)"
   ]
  },
  {
   "cell_type": "markdown",
   "id": "c024a465-9f58-4d97-a7e9-0f67f142525d",
   "metadata": {},
   "source": [
    "Creating Storage package"
   ]
  },
  {
   "cell_type": "code",
   "execution_count": 25,
   "id": "d06ccbe8-0d8d-42e4-afea-e0386edb4cfd",
   "metadata": {},
   "outputs": [],
   "source": [
    "sto = flopy.mf6.ModflowGwfsto(m)"
   ]
  },
  {
   "cell_type": "markdown",
   "id": "3a059649-c1d3-4a72-9242-1bbcd077c6e5",
   "metadata": {},
   "source": [
    "Creating wel and obs package for pumping and three monitoring wells"
   ]
  },
  {
   "cell_type": "code",
   "execution_count": 26,
   "id": "b2a3ff3b-9a2d-43b7-8d50-f99806cae403",
   "metadata": {},
   "outputs": [],
   "source": [
    "stress_period_data = [\n",
    "    (415667, -63.5),\n",
    "]"
   ]
  },
  {
   "cell_type": "code",
   "execution_count": 27,
   "id": "91bc3386-8200-42c8-b3be-ac6451f07226",
   "metadata": {},
   "outputs": [],
   "source": [
    "wel = flopy.mf6.ModflowGwfwel(m, stress_period_data=stress_period_data,)"
   ]
  },
  {
   "cell_type": "code",
   "execution_count": 28,
   "id": "fe0666a3-76e5-410c-b5e2-ba0c7aa8e85e",
   "metadata": {},
   "outputs": [],
   "source": [
    "obsname = ['w1006']  \n",
    "obstype = ['head']\n",
    "monitoring_well_cell_ids = [414847]\n",
    "\n",
    "continuous = list(zip(obsname, obstype, monitoring_well_cell_ids))\n",
    "obs = flopy.mf6.ModflowUtlobs(m, continuous=continuous)"
   ]
  },
  {
   "cell_type": "markdown",
   "id": "643f6a04-34db-4b73-b5a9-f3dca075903c",
   "metadata": {},
   "source": [
    "Updating OC package to show only the last time step"
   ]
  },
  {
   "cell_type": "code",
   "execution_count": 29,
   "id": "2bfa4873-39bb-4d06-84b5-e55234a70d17",
   "metadata": {},
   "outputs": [],
   "source": [
    "headfile = \"mf6_riv_reg.hds\"\n",
    "head_filerecord = [headfile]\n",
    "budgetfile = f\"mf6_riv_reg.cbb\"\n",
    "budget_filerecord = [budgetfile]\n",
    "saverecord = [(\"HEAD\", \"LAST\"), (\"BUDGET\", \"LAST\")]\n",
    "printrecord = [(\"HEAD\", \"LAST\")]\n",
    "oc = flopy.mf6.ModflowGwfoc(\n",
    "     m,\n",
    "     saverecord=saverecord,\n",
    "     head_filerecord=head_filerecord,\n",
    "     budget_filerecord=budget_filerecord,\n",
    "     printrecord=printrecord,\n",
    ")"
   ]
  },
  {
   "cell_type": "markdown",
   "id": "ee977078-c6ce-499c-aa2d-8b2775998187",
   "metadata": {},
   "source": [
    "Create and run simulation"
   ]
  },
  {
   "cell_type": "code",
   "execution_count": 30,
   "id": "326ddce8-f149-409c-92c2-89900e7c70a8",
   "metadata": {},
   "outputs": [
    {
     "name": "stdout",
     "output_type": "stream",
     "text": [
      "writing simulation...\n",
      "  writing simulation name file...\n",
      "  writing simulation tdis package...\n",
      "  writing solution package mf6model...\n",
      "  writing model mf6model...\n",
      "    writing model name file...\n",
      "    writing package disu...\n",
      "    writing package ic...\n",
      "    writing package npf...\n",
      "    writing package chd-1...\n",
      "    writing package riv-1...\n",
      "    writing package ghb-1...\n",
      "    writing package sto...\n",
      "    writing package wel_0...\n",
      "INFORMATION: maxbound in ('gwf6', 'wel', 'dimensions') changed to 1 based on size of stress_period_data\n",
      "    writing package obs_0...\n",
      "    writing package oc...\n"
     ]
    }
   ],
   "source": [
    "sim.write_simulation()"
   ]
  },
  {
   "cell_type": "code",
   "execution_count": 31,
   "id": "a2146f12-bfe7-463a-b8ad-c2651a08dc60",
   "metadata": {},
   "outputs": [
    {
     "name": "stdout",
     "output_type": "stream",
     "text": [
      "FloPy is using the following executable to run the model: mf6.exe\n",
      "                                   MODFLOW 6\n",
      "                U.S. GEOLOGICAL SURVEY MODULAR HYDROLOGIC MODEL\n",
      "                            VERSION 6.5.0 05/23/2024\n",
      "\n",
      "   MODFLOW 6 compiled May 23 2024 18:06:57 with Intel(R) Fortran Intel(R) 64\n",
      "   Compiler Classic for applications running on Intel(R) 64, Version 2021.7.0\n",
      "                             Build 20220726_000000\n",
      "\n",
      "This software has been approved for release by the U.S. Geological \n",
      "Survey (USGS). Although the software has been subjected to rigorous \n",
      "review, the USGS reserves the right to update the software as needed \n",
      "pursuant to further analysis and review. No warranty, expressed or \n",
      "implied, is made by the USGS or the U.S. Government as to the \n",
      "functionality of the software and related material nor shall the \n",
      "fact of release constitute any such warranty. Furthermore, the \n",
      "software is released on condition that neither the USGS nor the U.S. \n",
      "Government shall be held liable for any damages resulting from its \n",
      "authorized or unauthorized use. Also refer to the USGS Water \n",
      "Resources Software User Rights Notice for complete use, copyright, \n",
      "and distribution information.\n",
      "\n",
      " \n",
      " MODFLOW runs in SEQUENTIAL mode\n",
      " \n",
      " Run start date and time (yyyy/mm/dd hh:mm:ss): 2024/10/15 19:13:13\n",
      " \n",
      " Writing simulation list file: mfsim.lst\n",
      " Using Simulation name file: mfsim.nam\n",
      " \n",
      "    Solving:  Stress period:     1    Time step:     1\n",
      "    Solving:  Stress period:     1    Time step:     2\n",
      "    Solving:  Stress period:     1    Time step:     3\n",
      "    Solving:  Stress period:     1    Time step:     4\n",
      "    Solving:  Stress period:     1    Time step:     5\n",
      "    Solving:  Stress period:     1    Time step:     6\n",
      "    Solving:  Stress period:     1    Time step:     7\n",
      "    Solving:  Stress period:     1    Time step:     8\n",
      "    Solving:  Stress period:     1    Time step:     9\n",
      "    Solving:  Stress period:     1    Time step:    10\n",
      "    Solving:  Stress period:     1    Time step:    11\n",
      "    Solving:  Stress period:     1    Time step:    12\n",
      "    Solving:  Stress period:     1    Time step:    13\n",
      "    Solving:  Stress period:     1    Time step:    14\n",
      "    Solving:  Stress period:     1    Time step:    15\n",
      "    Solving:  Stress period:     1    Time step:    16\n",
      "    Solving:  Stress period:     1    Time step:    17\n",
      "    Solving:  Stress period:     1    Time step:    18\n",
      "    Solving:  Stress period:     1    Time step:    19\n",
      "    Solving:  Stress period:     1    Time step:    20\n",
      "    Solving:  Stress period:     1    Time step:    21\n",
      "    Solving:  Stress period:     1    Time step:    22\n",
      "    Solving:  Stress period:     1    Time step:    23\n",
      "    Solving:  Stress period:     1    Time step:    24\n",
      "    Solving:  Stress period:     1    Time step:    25\n",
      "    Solving:  Stress period:     1    Time step:    26\n",
      "    Solving:  Stress period:     1    Time step:    27\n",
      "    Solving:  Stress period:     1    Time step:    28\n",
      "    Solving:  Stress period:     1    Time step:    29\n",
      "    Solving:  Stress period:     1    Time step:    30\n",
      "    Solving:  Stress period:     1    Time step:    31\n",
      "    Solving:  Stress period:     1    Time step:    32\n",
      "    Solving:  Stress period:     1    Time step:    33\n",
      "    Solving:  Stress period:     1    Time step:    34\n",
      "    Solving:  Stress period:     1    Time step:    35\n",
      "    Solving:  Stress period:     1    Time step:    36\n",
      "    Solving:  Stress period:     1    Time step:    37\n",
      "    Solving:  Stress period:     1    Time step:    38\n",
      "    Solving:  Stress period:     1    Time step:    39\n",
      "    Solving:  Stress period:     1    Time step:    40\n",
      "    Solving:  Stress period:     1    Time step:    41\n",
      "    Solving:  Stress period:     1    Time step:    42\n",
      "    Solving:  Stress period:     1    Time step:    43\n",
      "    Solving:  Stress period:     1    Time step:    44\n",
      "    Solving:  Stress period:     1    Time step:    45\n",
      "    Solving:  Stress period:     1    Time step:    46\n",
      "    Solving:  Stress period:     1    Time step:    47\n",
      "    Solving:  Stress period:     1    Time step:    48\n",
      "    Solving:  Stress period:     1    Time step:    49\n",
      "    Solving:  Stress period:     1    Time step:    50\n",
      "    Solving:  Stress period:     1    Time step:    51\n",
      "    Solving:  Stress period:     1    Time step:    52\n",
      "    Solving:  Stress period:     1    Time step:    53\n",
      "    Solving:  Stress period:     1    Time step:    54\n",
      "    Solving:  Stress period:     1    Time step:    55\n",
      "    Solving:  Stress period:     1    Time step:    56\n",
      "    Solving:  Stress period:     1    Time step:    57\n",
      "    Solving:  Stress period:     1    Time step:    58\n",
      "    Solving:  Stress period:     1    Time step:    59\n",
      "    Solving:  Stress period:     1    Time step:    60\n",
      "    Solving:  Stress period:     1    Time step:    61\n",
      "    Solving:  Stress period:     1    Time step:    62\n",
      "    Solving:  Stress period:     1    Time step:    63\n",
      "    Solving:  Stress period:     1    Time step:    64\n",
      "    Solving:  Stress period:     1    Time step:    65\n",
      "    Solving:  Stress period:     1    Time step:    66\n",
      "    Solving:  Stress period:     1    Time step:    67\n",
      "    Solving:  Stress period:     1    Time step:    68\n",
      "    Solving:  Stress period:     1    Time step:    69\n",
      "    Solving:  Stress period:     1    Time step:    70\n",
      "    Solving:  Stress period:     1    Time step:    71\n",
      "    Solving:  Stress period:     1    Time step:    72\n",
      "    Solving:  Stress period:     1    Time step:    73\n",
      "    Solving:  Stress period:     1    Time step:    74\n",
      "    Solving:  Stress period:     1    Time step:    75\n",
      "    Solving:  Stress period:     1    Time step:    76\n",
      "    Solving:  Stress period:     1    Time step:    77\n",
      "    Solving:  Stress period:     1    Time step:    78\n",
      "    Solving:  Stress period:     1    Time step:    79\n",
      "    Solving:  Stress period:     1    Time step:    80\n",
      "    Solving:  Stress period:     1    Time step:    81\n",
      "    Solving:  Stress period:     1    Time step:    82\n",
      "    Solving:  Stress period:     1    Time step:    83\n",
      "    Solving:  Stress period:     1    Time step:    84\n",
      "    Solving:  Stress period:     1    Time step:    85\n",
      "    Solving:  Stress period:     1    Time step:    86\n",
      "    Solving:  Stress period:     1    Time step:    87\n",
      "    Solving:  Stress period:     1    Time step:    88\n",
      "    Solving:  Stress period:     1    Time step:    89\n",
      "    Solving:  Stress period:     1    Time step:    90\n",
      "    Solving:  Stress period:     1    Time step:    91\n",
      "    Solving:  Stress period:     1    Time step:    92\n",
      "    Solving:  Stress period:     1    Time step:    93\n",
      "    Solving:  Stress period:     1    Time step:    94\n",
      "    Solving:  Stress period:     1    Time step:    95\n",
      "    Solving:  Stress period:     1    Time step:    96\n",
      "    Solving:  Stress period:     1    Time step:    97\n",
      "    Solving:  Stress period:     1    Time step:    98\n",
      "    Solving:  Stress period:     1    Time step:    99\n",
      "    Solving:  Stress period:     1    Time step:   100\n",
      " \n",
      " Run end date and time (yyyy/mm/dd hh:mm:ss): 2024/10/15 19:16:07\n",
      " Elapsed run time:  2 Minutes, 53.979 Seconds\n",
      " \n",
      " Normal termination of simulation.\n"
     ]
    }
   ],
   "source": [
    "success, buff = sim.run_simulation(\n",
    "    silent=None,\n",
    "    pause=False,\n",
    "    report=False,\n",
    "    processors=None,\n",
    "    normal_msg='normal termination',\n",
    "    use_async=False,\n",
    "    cargs=None,\n",
    "    custom_print=None,\n",
    ")"
   ]
  },
  {
   "cell_type": "code",
   "execution_count": 32,
   "id": "7cf9f2af-6e36-46d7-99c5-a29bd1b7e3de",
   "metadata": {},
   "outputs": [
    {
     "data": {
      "text/html": [
       "<div>\n",
       "<style scoped>\n",
       "    .dataframe tbody tr th:only-of-type {\n",
       "        vertical-align: middle;\n",
       "    }\n",
       "\n",
       "    .dataframe tbody tr th {\n",
       "        vertical-align: top;\n",
       "    }\n",
       "\n",
       "    .dataframe thead th {\n",
       "        text-align: right;\n",
       "    }\n",
       "</style>\n",
       "<table border=\"1\" class=\"dataframe\">\n",
       "  <thead>\n",
       "    <tr style=\"text-align: right;\">\n",
       "      <th></th>\n",
       "      <th>kstp</th>\n",
       "      <th>kper</th>\n",
       "      <th>pertim</th>\n",
       "      <th>totim</th>\n",
       "      <th>text</th>\n",
       "      <th>ncol</th>\n",
       "      <th>nrow</th>\n",
       "      <th>ilay</th>\n",
       "    </tr>\n",
       "  </thead>\n",
       "  <tbody>\n",
       "    <tr>\n",
       "      <th>52</th>\n",
       "      <td>100</td>\n",
       "      <td>1</td>\n",
       "      <td>0.16</td>\n",
       "      <td>0.16</td>\n",
       "      <td>HEAD</td>\n",
       "      <td>547154</td>\n",
       "      <td>1</td>\n",
       "      <td>1</td>\n",
       "    </tr>\n",
       "  </tbody>\n",
       "</table>\n",
       "</div>"
      ],
      "text/plain": [
       "    kstp  kper  pertim  totim  text    ncol  nrow  ilay\n",
       "52   100     1    0.16   0.16  HEAD  547154     1     1"
      ]
     },
     "execution_count": 32,
     "metadata": {},
     "output_type": "execute_result"
    }
   ],
   "source": [
    "hobj = flopy.utils.HeadFile('mf6_riv_reg.hds', model=m)\n",
    "hobj.headers"
   ]
  },
  {
   "cell_type": "code",
   "execution_count": null,
   "id": "755f4b5f-324a-4f0c-a950-19e0e6ac8084",
   "metadata": {},
   "outputs": [],
   "source": []
  }
 ],
 "metadata": {
  "kernelspec": {
   "display_name": "Python 3 (ipykernel)",
   "language": "python",
   "name": "python3"
  },
  "language_info": {
   "codemirror_mode": {
    "name": "ipython",
    "version": 3
   },
   "file_extension": ".py",
   "mimetype": "text/x-python",
   "name": "python",
   "nbconvert_exporter": "python",
   "pygments_lexer": "ipython3",
   "version": "3.11.9"
  }
 },
 "nbformat": 4,
 "nbformat_minor": 5
}
